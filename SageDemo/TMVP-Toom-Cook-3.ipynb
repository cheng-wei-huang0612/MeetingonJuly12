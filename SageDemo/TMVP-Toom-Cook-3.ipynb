{
 "cells": [
  {
   "cell_type": "code",
   "execution_count": 2,
   "metadata": {
    "vscode": {
     "languageId": "sage"
    }
   },
   "outputs": [],
   "source": [
    "TC_5x3 = Matrix([\n",
    "    [1, 0, 0],\n",
    "    [1, 1, 1],\n",
    "    [1,-1, 1],\n",
    "    [1, 2, 4],\n",
    "    [0, 0, 1]\n",
    "])\n",
    "\n",
    "TC_5x5 = Matrix([\n",
    "    [1, 0, 0, 0, 0],\n",
    "    [1, 1, 1, 1, 1],\n",
    "    [1,-1, 1,-1, 1],\n",
    "    [1, 2, 4, 8,16],\n",
    "    [0, 0, 0, 0, 1]\n",
    "])\n",
    "\n",
    "TC_5x5_inv = TC_5x5.inverse()\n",
    "TC_5x5_inv_T = TC_5x5_inv.T"
   ]
  },
  {
   "cell_type": "code",
   "execution_count": 5,
   "metadata": {
    "vscode": {
     "languageId": "sage"
    }
   },
   "outputs": [
    {
     "data": {
      "text/plain": [
       "[   1 -1/2   -1  1/2    0]\n",
       "[   0    1  1/2 -1/2    0]\n",
       "[   0 -1/3  1/2 -1/6    0]\n",
       "[   0 -1/6    0  1/6    0]\n",
       "[   0    2   -1   -2    1]"
      ]
     },
     "execution_count": 5,
     "metadata": {},
     "output_type": "execute_result"
    }
   ],
   "source": [
    "TC_5x5_inv_T"
   ]
  },
  {
   "cell_type": "code",
   "execution_count": 7,
   "metadata": {
    "vscode": {
     "languageId": "sage"
    }
   },
   "outputs": [],
   "source": [
    "B0, B1, B2 = var(\"B0, B1, B2\")\n",
    "Ap2,Ap1,A0,Am1,Am2 = var(\"Ap2,Ap1,A0,Am1,Am2\")"
   ]
  },
  {
   "cell_type": "code",
   "execution_count": 8,
   "metadata": {
    "vscode": {
     "languageId": "sage"
    }
   },
   "outputs": [],
   "source": [
    "A_vec = Matrix([Ap2,Ap1,A0,Am1,Am2])"
   ]
  },
  {
   "cell_type": "code",
   "execution_count": 16,
   "metadata": {
    "vscode": {
     "languageId": "sage"
    }
   },
   "outputs": [
    {
     "data": {
      "text/plain": [
       "-A0 - 2*Am1 + Am2 + 2*Ap1"
      ]
     },
     "execution_count": 16,
     "metadata": {},
     "output_type": "execute_result"
    }
   ],
   "source": [
    "A_vec * TC_5x5_inv"
   ]
  },
  {
   "cell_type": "code",
   "execution_count": 22,
   "metadata": {
    "vscode": {
     "languageId": "sage"
    }
   },
   "outputs": [],
   "source": [
    "Components = Matrix(\n",
    "    [\n",
    "        [((A_vec * TC_5x5_inv)[0][0]) * B0],\n",
    "        [((A_vec * TC_5x5_inv)[0][1]) * (B0+B1+B2)],\n",
    "        [((A_vec * TC_5x5_inv)[0][2]) * (B0-B1+B2)],\n",
    "        [((A_vec * TC_5x5_inv)[0][3]) * (B0+2*B1+4*B2)],\n",
    "        [((A_vec * TC_5x5_inv)[0][4]) * B2],\n",
    "    ]\n",
    ")"
   ]
  },
  {
   "cell_type": "code",
   "execution_count": 23,
   "metadata": {
    "vscode": {
     "languageId": "sage"
    }
   },
   "outputs": [
    {
     "data": {
      "text/plain": [
       "[     -1/2*(2*A0 - Am1 + Ap1 - 2*Ap2)*B0]\n",
       "[  1/2*(A0 - Am1 + 2*Ap1)*(B0 + B1 + B2)]\n",
       "[1/6*(3*A0 - Am1 - 2*Ap1)*(B0 - B1 + B2)]\n",
       "[     1/6*(Am1 - Ap1)*(B0 + 2*B1 + 4*B2)]\n",
       "[         -(A0 + 2*Am1 - Am2 - 2*Ap1)*B2]"
      ]
     },
     "execution_count": 23,
     "metadata": {},
     "output_type": "execute_result"
    }
   ],
   "source": [
    "Components"
   ]
  },
  {
   "cell_type": "code",
   "execution_count": 31,
   "metadata": {
    "vscode": {
     "languageId": "sage"
    }
   },
   "outputs": [
    {
     "data": {
      "text/plain": [
       "A0*B0 + Am1*B1 + Am2*B2"
      ]
     },
     "execution_count": 31,
     "metadata": {},
     "output_type": "execute_result"
    }
   ],
   "source": [
    "expand(((TC_5x3.T) * Components)[2][0])"
   ]
  },
  {
   "cell_type": "code",
   "execution_count": null,
   "metadata": {
    "vscode": {
     "languageId": "sage"
    }
   },
   "outputs": [],
   "source": []
  }
 ],
 "metadata": {
  "kernelspec": {
   "display_name": "SageMath 10.2",
   "language": "sage",
   "name": "SageMath-10.2"
  },
  "language_info": {
   "codemirror_mode": {
    "name": "ipython",
    "version": 3
   },
   "file_extension": ".py",
   "mimetype": "text/x-python",
   "name": "python",
   "nbconvert_exporter": "python",
   "pygments_lexer": "ipython3",
   "version": "3.11.1"
  }
 },
 "nbformat": 4,
 "nbformat_minor": 2
}
