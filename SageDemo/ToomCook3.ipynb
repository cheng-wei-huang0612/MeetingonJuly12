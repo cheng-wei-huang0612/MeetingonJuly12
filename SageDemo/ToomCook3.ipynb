{
 "cells": [
  {
   "cell_type": "code",
   "execution_count": 54,
   "metadata": {
    "vscode": {
     "languageId": "sage"
    }
   },
   "outputs": [],
   "source": [
    "TC_5x3 = Matrix([\n",
    "    [1, 0, 0],\n",
    "    [1, 1, 1],\n",
    "    [1,-1, 1],\n",
    "    [1, 2, 4],\n",
    "    [0, 0, 1]\n",
    "])\n",
    "\n",
    "TC_5x5 = Matrix([\n",
    "    [1, 0, 0, 0, 0],\n",
    "    [1, 1, 1, 1, 1],\n",
    "    [1,-1, 1,-1, 1],\n",
    "    [1, 2, 4, 8,16],\n",
    "    [0, 0, 0, 0, 1]\n",
    "])\n",
    "\n",
    "TC_5x5_inv = TC_5x5.inverse()"
   ]
  },
  {
   "cell_type": "code",
   "execution_count": 58,
   "metadata": {
    "vscode": {
     "languageId": "sage"
    }
   },
   "outputs": [
    {
     "data": {
      "text/plain": [
       "[   1    0    0    0    0]\n",
       "[-1/2    1 -1/3 -1/6    2]\n",
       "[  -1  1/2  1/2    0   -1]\n",
       "[ 1/2 -1/2 -1/6  1/6   -2]\n",
       "[   0    0    0    0    1]"
      ]
     },
     "execution_count": 58,
     "metadata": {},
     "output_type": "execute_result"
    }
   ],
   "source": [
    "TC_5x5_inv\n"
   ]
  },
  {
   "cell_type": "code",
   "execution_count": 60,
   "metadata": {
    "vscode": {
     "languageId": "sage"
    }
   },
   "outputs": [
    {
     "name": "stdout",
     "output_type": "stream",
     "text": [
      "[-9, 3, -5]\n",
      "-5*x^2 + 3*x - 9\n"
     ]
    }
   ],
   "source": [
    "B = [randint(-10,10) for i in range(3)]\n",
    "C = [randint(-10,10) for i in range(3)]\n",
    "\n",
    "B_poly = sum([B[i]*x^i for i in range(3)])\n",
    "C_poly = sum([C[i]*x^i for i in range(3)])\n",
    "\n",
    "print(B)\n",
    "print(B_poly)\n",
    "\n"
   ]
  },
  {
   "cell_type": "code",
   "execution_count": 62,
   "metadata": {
    "vscode": {
     "languageId": "sage"
    }
   },
   "outputs": [
    {
     "data": {
      "text/plain": [
       "[ -9]\n",
       "[-11]\n",
       "[-17]\n",
       "[-23]\n",
       "[ -5]"
      ]
     },
     "execution_count": 62,
     "metadata": {},
     "output_type": "execute_result"
    }
   ],
   "source": [
    "B_vec = Matrix(B).T\n",
    "C_vec = Matrix(C).T\n",
    "\n",
    "\n",
    "B_func_val = TC_5x3 * B_vec\n",
    "C_func_val = TC_5x3 * C_vec\n",
    "\n",
    "B_func_val"
   ]
  },
  {
   "cell_type": "code",
   "execution_count": 63,
   "metadata": {
    "vscode": {
     "languageId": "sage"
    }
   },
   "outputs": [
    {
     "name": "stdout",
     "output_type": "stream",
     "text": [
      "[ -9]\n",
      "[-11]\n",
      "[-17]\n",
      "[-23]\n",
      "[ -5]\n",
      "\n",
      "[ -7]\n",
      "[ -2]\n",
      "[-10]\n",
      "[  5]\n",
      "[  1]\n",
      "\n",
      "[  63]\n",
      "[  22]\n",
      "[ 170]\n",
      "[-115]\n",
      "[  -5]\n"
     ]
    }
   ],
   "source": [
    "# Component-wise multiplication\n",
    "\n",
    "R_func_val = Matrix([[B_func_val[i][0] * C_func_val[i][0]] for i in range(5)])\n",
    "print(B_func_val)\n",
    "print()\n",
    "print(C_func_val)\n",
    "print()\n",
    "print(R_func_val)"
   ]
  },
  {
   "cell_type": "code",
   "execution_count": 65,
   "metadata": {
    "vscode": {
     "languageId": "sage"
    }
   },
   "outputs": [
    {
     "name": "stdout",
     "output_type": "stream",
     "text": [
      "[ 63]\n",
      "[-57]\n",
      "[ 38]\n",
      "[-17]\n",
      "[ -5]\n"
     ]
    }
   ],
   "source": [
    "# Interpolation\n",
    "\n",
    "R_vec = TC_5x5_inv * R_func_val\n",
    "print(R_vec)"
   ]
  },
  {
   "cell_type": "code",
   "execution_count": 66,
   "metadata": {
    "vscode": {
     "languageId": "sage"
    }
   },
   "outputs": [
    {
     "name": "stdout",
     "output_type": "stream",
     "text": [
      "[-9]\n",
      "[ 3]\n",
      "[-5]\n",
      "\n",
      "[-7]\n",
      "[ 4]\n",
      "[ 1]\n",
      "\n",
      "[ 63]\n",
      "[-57]\n",
      "[ 38]\n",
      "[-17]\n",
      "[ -5]\n"
     ]
    }
   ],
   "source": [
    "print(B_vec)\n",
    "print()\n",
    "print(C_vec)\n",
    "print()\n",
    "print(R_vec)"
   ]
  },
  {
   "cell_type": "code",
   "execution_count": 67,
   "metadata": {
    "vscode": {
     "languageId": "sage"
    }
   },
   "outputs": [
    {
     "data": {
      "text/plain": [
       "[63, -57, 38, -17, -5]"
      ]
     },
     "execution_count": 67,
     "metadata": {},
     "output_type": "execute_result"
    }
   ],
   "source": [
    "# Verification\n",
    "expand(B_poly * C_poly).list()"
   ]
  },
  {
   "cell_type": "code",
   "execution_count": null,
   "metadata": {
    "vscode": {
     "languageId": "sage"
    }
   },
   "outputs": [],
   "source": []
  }
 ],
 "metadata": {
  "kernelspec": {
   "display_name": "SageMath 10.2",
   "language": "sage",
   "name": "SageMath-10.2"
  },
  "language_info": {
   "codemirror_mode": {
    "name": "ipython",
    "version": 3
   },
   "file_extension": ".py",
   "mimetype": "text/x-python",
   "name": "python",
   "nbconvert_exporter": "python",
   "pygments_lexer": "ipython3",
   "version": "3.11.1"
  }
 },
 "nbformat": 4,
 "nbformat_minor": 2
}
